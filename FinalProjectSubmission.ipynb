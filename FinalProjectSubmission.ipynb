{
 "cells": [
  {
   "cell_type": "markdown",
   "id": "45762487-d33f-486d-8e38-2cdea04e3528",
   "metadata": {},
   "source": [
    "# Metadata\n",
    "\n",
    "* Title: **Final Project Report**\n",
    "* Class: DS 5100\n",
    "* Date: 7/15/22\n",
    "* Student Name: Rhea Agarwal\n",
    "* Student Net ID: ra5rc\n",
    "* This URL: https://github.com/ra5rc/Final-Project/blob/main/FinalProjectSubmission.ipynb\n",
    "* GitHub Repo URL: https://github.com/ra5rc/MonteCarlo-Project"
   ]
  },
  {
   "cell_type": "markdown",
   "id": "d32cb273-9a40-4909-a7ce-51f6e4958d3c",
   "metadata": {},
   "source": [
    "# The Monte Carlo Module"
   ]
  },
  {
   "cell_type": "code",
   "execution_count": 18,
   "id": "717cf6d8-9947-4809-994d-fb4ece88ebe3",
   "metadata": {},
   "outputs": [],
   "source": [
    "import pandas as pd\n",
    "import numpy as np\n",
    "import random"
   ]
  },
  {
   "cell_type": "code",
   "execution_count": 8,
   "id": "a0743efc-a785-4b5c-a9e6-b65d4507a67f",
   "metadata": {},
   "outputs": [],
   "source": [
    "# A code block with your classes.\n",
    "class Die():\n",
    "    \"\"\"\n",
    "    A die has N sides, or “faces”, and W \"weights\",\n",
    "    stored in a dataframe that can be rolled to select \n",
    "    a face. \n",
    "  \n",
    "    Attributes:\n",
    "    A die object with assigned faces and weights.\n",
    "    \n",
    "    Methods:\n",
    "    __init__\n",
    "    change_w\n",
    "    rolldie\n",
    "    display\n",
    "   \n",
    "    \"\"\"\n",
    "    _diedf=pd.DataFrame({'faces':[],'weights':[]})\n",
    "    \n",
    "    def __init__(self, n, w = 1.0):\n",
    "        \n",
    "        \"\"\"\n",
    "        Initialize the Die from faces and weights. \n",
    "       \n",
    "        Input Arguments:\n",
    "        n must be an array of floats, integers or strings.\n",
    "        w can be an array or value of floats or integers. \n",
    "        If no weight is specified, w will default to 1.0.\n",
    "        \"\"\"\n",
    "        self.n=n\n",
    "        self.w=w\n",
    "        _newdie = pd.DataFrame({'faces': n, 'weights': w})\n",
    "        self._diedf = pd.concat([self._diedf, _newdie], ignore_index=True)\n",
    "\n",
    "    def change_w(self, faces, weights):\n",
    "        \"\"\"\n",
    "        The function to change the weight of a specified face.\n",
    "  \n",
    "        Parameters:\n",
    "           faces, int, float, or string.\n",
    "           weights, int or float.\n",
    "           \n",
    "        Returns:\n",
    "            Specifies whether face is in array of values already.\n",
    "            Changes type of weight to floaat if not already.\n",
    "            Changes weight at specified face value.\n",
    "            \n",
    "        \"\"\"\n",
    "        if not (faces in list(self._diedf['faces']):\n",
    "            raise ValueError('Face not in die.')\n",
    "        else:\n",
    "            self._diedf.at[self._diedf.index[self._diedf.faces == faces],'weights']=float(weights)\n",
    "\n",
    "    def rolldie(self, number=1):\n",
    "        \"\"\"\n",
    "        The function to roll a die object a number of times according to weight.\n",
    "        \n",
    "        Parameters:\n",
    "        number, int or float\n",
    "        \n",
    "        Returns:\n",
    "        An array of face values chosen randomly a specified number of times.\n",
    "        \"\"\"\n",
    "        roll= random.choices(self._diedf['faces'].values, self._diedf['weights'].values, k=number)\n",
    "        return(roll)\n",
    "          \n",
    "    def display(self):\n",
    "        \"\"\"\n",
    "        The function to display a dataframe of the faces and weights of a die.         \n",
    "        \n",
    "        Returns:\n",
    "        A dataframe with the faces and weights of a die.               \n",
    "        \n",
    "        \"\"\"\n",
    "        \n",
    "        return(self._diedf)"
   ]
  },
  {
   "cell_type": "code",
   "execution_count": 9,
   "id": "db5d50ca-2974-4eae-9f48-bb2315f52d4b",
   "metadata": {},
   "outputs": [],
   "source": [
    "class Game():  \n",
    "    \"\"\"\n",
    "    A game object consists of one or more die objects that \n",
    "    can be rolled to output a number of faces. \n",
    "  \n",
    "    Attributes:\n",
    "    A game object with at least one die.\n",
    "    \n",
    "    Methods:\n",
    "    __init__\n",
    "    play\n",
    "    show  \n",
    "  \n",
    "    \"\"\"  \n",
    "    \n",
    "    def __init__(self, games):\n",
    "        \"\"\"\n",
    "        Initialize a game from die objects. \n",
    "       \n",
    "        Input Arguments:\n",
    "        Games must be a list of at least one die objects.\n",
    "        \"\"\"\n",
    "        self.games=games\n",
    "       \n",
    "    def play(self, ntimes):\n",
    "        \"\"\"\n",
    "        The function to play one or more die a specified amount of times\n",
    "        \n",
    "        Parameters:\n",
    "        ntimes, int or float\n",
    "        \n",
    "        Returns:\n",
    "        Rolls one or more die a specified number of times and stores results into a dataframe. \n",
    "        \"\"\"\n",
    "           \n",
    "        rolllist=[]\n",
    "        for x in range(0, len(self.games)):\n",
    "            rolllist.append(self.games[x].rolldie(ntimes))\n",
    "        dienames=[]\n",
    "        [dienames.append(\"Die\"+str(x) )  for x in range(0, len(self.games))] \n",
    "        self._rolldf= pd.DataFrame(rolllist, index = dienames).T\n",
    "        self._rolldf.index.name ='Roll Number'\n",
    "\n",
    "   \n",
    "    def show(self, form='wide'):\n",
    "        \"\"\"\n",
    "        The function to display the outcomes of a game in wide or narrow dataframe. \n",
    "        \n",
    "        Parameters:\n",
    "        form, as 'wide'(default) or 'narrow', else raises exception. \n",
    "        \n",
    "        Returns:\n",
    "        A dataframe of game results as wide or narrow otherwise raises exception. \n",
    "        \"\"\"\n",
    "        if form == 'narrow':\n",
    "            return(self._rolldf.unstack().to_frame().rename_axis(index=[\"Die Number\", \"Roll Number\"]))\n",
    "                           \n",
    "        elif form =='wide':\n",
    "            return(self._rolldf)\n",
    "        \n",
    "        elif (form != 'wide') or (form != 'narrow'):\n",
    "            raise Exception('Form not accepted. Continue with wide or narrow.')\n",
    "            "
   ]
  },
  {
   "cell_type": "code",
   "execution_count": 10,
   "id": "9c68cafc-f709-4810-b050-9ce1f574a07b",
   "metadata": {},
   "outputs": [],
   "source": [
    "class Analyzer():\n",
    "    \"\"\"\n",
    "    An Analyzer object consists of one or more game \n",
    "    objects with a results dataframe and can compute statistical \n",
    "    properties. \n",
    "  \n",
    "    Attributes:\n",
    "    A analyze object with a specified game. \n",
    "    \n",
    "    Methods:\n",
    "    __init__\n",
    "    jackpot\n",
    "    combo\n",
    "    facecount\n",
    "  \n",
    "    \"\"\" \n",
    "    def __init__(self, gameobj):\n",
    "        \"\"\"\n",
    "        Initialize the Analyzer object from a game. \n",
    "       \n",
    "        Input Arguments:\n",
    "        Gameobj must be a game with at least one die \n",
    "        that has been played.\n",
    "    \n",
    "        \"\"\"\n",
    "        self.gameobj=gameobj\n",
    "        self.gameobjdf = self.gameobj.show()\n",
    "\n",
    "    def jackpot(self):\n",
    "        \"\"\"\n",
    "        The function checks each roll for the same face \n",
    "        outputted and counts the number of rolls where the \n",
    "        face values are all equal.\n",
    "        \n",
    "        Returns:\n",
    "        The length of a dataframe of jackpot rows as an integer.\n",
    "        \"\"\"\n",
    "        \n",
    "        self.jackresultdf=self.gameobjdf[self.gameobjdf.nunique(axis=1).eq(1)]\n",
    "        return(len(self.jackresultdf))\n",
    "    \n",
    "    def combo(self):\n",
    "        \"\"\"\n",
    "        The function computes the number of times each unique combination of faces rolled occurs.\n",
    "        \n",
    "        Returns:\n",
    "        A dataframe of each unique combination of faces rolled totaled.\n",
    "        \"\"\"\n",
    "        self.uni= (self.gameobjdf.value_counts()).to_frame().rename(columns={0: \"Counts\"}, level = 0)        #.rename_axis(index=[\"Die Number\", \"Count\"])\n",
    "        return(self.uni)\n",
    "    \n",
    "    def facecount(self):\n",
    "        \"\"\"\n",
    "        The function counts the number of times every face appears in each roll.\n",
    "        \n",
    "        Returns:\n",
    "        A dataframe of each face totaled for every roll. \n",
    "        \n",
    "        \"\"\"\n",
    "        return(self.gameobjdf.apply(pd.Series.value_counts, axis=1).fillna(0))"
   ]
  },
  {
   "cell_type": "code",
   "execution_count": null,
   "id": "6891ed39-8ca7-48ca-aa44-dd3ef85203f3",
   "metadata": {},
   "outputs": [],
   "source": [
    "# Demo Code\n",
    "die1=Die([4,2,5])\n",
    "die2=Die([3,4,5])\n",
    "\n",
    "die1.change_w(2,3)\n",
    "print(die1.display())\n",
    "die2.rolldie(5)\n",
    "print(die2.display())\n",
    "\n",
    "game1=Game([die1,die2])\n",
    "game1.play(10)\n",
    "print(game1.show())\n",
    "\n",
    "analyze1=Analyzer(game1)\n",
    "print(analyze1.jackpot())\n",
    "print(analyze1.combo())\n",
    "print(analyze1.facecount())"
   ]
  },
  {
   "cell_type": "markdown",
   "id": "4c81c4f0-b6ff-46ab-ba2c-9de7f0179715",
   "metadata": {},
   "source": [
    "# Test Module"
   ]
  },
  {
   "cell_type": "code",
   "execution_count": 14,
   "id": "14b878d8-258b-4cf2-ad88-b8ee90d43977",
   "metadata": {},
   "outputs": [
    {
     "name": "stderr",
     "output_type": "stream",
     "text": [
      "C:\\Users\\Rhea\\AppData\\Roaming\\jupyter\\runtime\\kernel-40d920ef-62e8-4e28-a68a-799566cd1fbc (unittest.loader._FailedTest) ... ERROR\n",
      "\n",
      "======================================================================\n",
      "ERROR: C:\\Users\\Rhea\\AppData\\Roaming\\jupyter\\runtime\\kernel-40d920ef-62e8-4e28-a68a-799566cd1fbc (unittest.loader._FailedTest)\n",
      "----------------------------------------------------------------------\n",
      "AttributeError: module '__main__' has no attribute 'C:\\Users\\Rhea\\AppData\\Roaming\\jupyter\\runtime\\kernel-40d920ef-62e8-4e28-a68a-799566cd1fbc'\n",
      "\n",
      "----------------------------------------------------------------------\n",
      "Ran 1 test in 0.001s\n",
      "\n",
      "FAILED (errors=1)\n"
     ]
    },
    {
     "ename": "SystemExit",
     "evalue": "True",
     "output_type": "error",
     "traceback": [
      "An exception has occurred, use %tb to see the full traceback.\n",
      "\u001b[1;31mSystemExit\u001b[0m\u001b[1;31m:\u001b[0m True\n"
     ]
    },
    {
     "name": "stderr",
     "output_type": "stream",
     "text": [
      "C:\\Users\\Rhea\\anaconda3\\lib\\site-packages\\IPython\\core\\interactiveshell.py:3445: UserWarning: To exit: use 'exit', 'quit', or Ctrl-D.\n",
      "  warn(\"To exit: use 'exit', 'quit', or Ctrl-D.\", stacklevel=1)\n"
     ]
    }
   ],
   "source": [
    "import unittest\n",
    "from Demo.dieclass import Die\n",
    "from Demo.gameclass import Game\n",
    "from Demo.analyzerclass import Analyzer\n",
    "\n",
    "class ProjectTestSuite(unittest.TestCase):\n",
    "    \n",
    "    def test_1_change_w(self):\n",
    "        \"\"\"\n",
    "        Tests change_w method\n",
    "        \"\"\"\n",
    "        test_object=Die([1,2,3,4,4])\n",
    "        test_object.change_w(4, 0.8)\n",
    "        self.assertTrue(((test_object._diedf['faces'] == 4) & ((test_object._diedf['weights']== 0.8))).any())\n",
    "                        \n",
    "    def test_2_rolldice(self):\n",
    "        \"\"\"\n",
    "        Tests rolldice method\n",
    "        \"\"\"\n",
    "        test_object=Die([1,2,3,4,4])\n",
    "        test_object.rolldie(5)\n",
    "        self.assertTrue(len(test_object.rolldie(5)) == 5)\n",
    "        \n",
    "    def test_3_display(self):\n",
    "        \"\"\"\n",
    "        Tests display method\n",
    "        \"\"\"\n",
    "        test_object=Die([1,2,3,4,4])\n",
    "        test_object.display()\n",
    "        self.assertTrue(test_object._diedf.shape[0] != 0)\n",
    "        \n",
    "    def test_4_play(self):\n",
    "        \"\"\"\n",
    "        Tests play method\n",
    "        \"\"\"\n",
    "        die1=Die([2,3,4])\n",
    "        die2=Die([1,2,3])\n",
    "        test_object=Game([die1,die2])\n",
    "        test_object.play(22)\n",
    "        self.assertTrue(len(test_object._rolldf) == 22)\n",
    "    \n",
    "    def test_5_show(self):\n",
    "        \"\"\"\n",
    "        Tests show method with form as wide\n",
    "        \"\"\"\n",
    "        die1=Die([2,3,4])\n",
    "        die2=Die([1,2,3])\n",
    "        test_object=Game([die1,die2])\n",
    "        test_object.play(22)\n",
    "        test_object.show()\n",
    "        self.assertTrue(test_object._rolldf.shape == (22,2))\n",
    "        \n",
    "        \n",
    "    def test_6_show(self):\n",
    "        \"\"\"\n",
    "        Tests show method with form as narrow\n",
    "        \"\"\"\n",
    "        die1=Die([2,3,4])\n",
    "        die2=Die([1,2,3])\n",
    "        test_object=Game([die1,die2])\n",
    "        test_object.play(22)\n",
    "        x1 = test_object.show(form = 'narrow')\n",
    "        self.assertEqual((len(x1)) ,44)\n",
    "     \n",
    "    \n",
    "    def test_7_show(self):\n",
    "        \"\"\"\n",
    "        Tests show method exception raised from incorrect input for form argument. \n",
    "        \"\"\"\n",
    "        die1=Die([2,3,4])\n",
    "        die2=Die([1,2,3])\n",
    "        test_object=Game([die1,die2])\n",
    "        test_object.play(22)     \n",
    "        with self.assertRaises(Exception):\n",
    "            test_object.show(form = 'b')\n",
    "        \n",
    "    def test_8_jackpot(self):\n",
    "        \"\"\"\n",
    "        Tests jackpot method\n",
    "        \"\"\"\n",
    "        die1=Die([3,3,3])\n",
    "        die2=Die([1,3,3])\n",
    "        game1=Game([die1,die2])\n",
    "        game1.play(10)\n",
    "        test_object=Analyzer(game1)\n",
    "        test_object.jackpot()\n",
    "        self.assertTrue(len(game1._rolldf) > len(test_object.jackresultdf))\n",
    "        \n",
    "    def test_9_combo(self):\n",
    "        \"\"\"\n",
    "        Tests combo method\n",
    "        \"\"\"\n",
    "        die1=Die([3,3,3])\n",
    "        die2=Die([2,2,2])\n",
    "        game1=Game([die1,die2])\n",
    "        game1.play(10)\n",
    "        test_object=Analyzer(game1)\n",
    "        test_object.combo()\n",
    "        self.assertTrue((test_object.uni['Counts']==10).all())\n",
    "        \n",
    "        \n",
    "    def test_10_facecount(self):\n",
    "        \"\"\"\n",
    "        Tests facecount method\n",
    "        \"\"\"\n",
    "        die1=Die([3,3,3])\n",
    "        die2=Die([2,2,2])\n",
    "        game1=Game([die1,die2])\n",
    "        game1.play(1)\n",
    "        test_object=Analyzer(game1)\n",
    "        self.assertTrue((test_object.facecount().iloc[0] == 1).all())      \n",
    "\n",
    "        \n",
    "if __name__ == '__main__':\n",
    "    unittest.main(verbosity=2)\n"
   ]
  },
  {
   "cell_type": "markdown",
   "id": "3c2b90b6-ac8b-43fa-a069-cb5b0b22aee0",
   "metadata": {},
   "source": [
    "# Test Results"
   ]
  },
  {
   "cell_type": "code",
   "execution_count": null,
   "id": "1a7fb514-118d-4307-8472-15a4f0a25b88",
   "metadata": {},
   "outputs": [],
   "source": [
    "# A text block with the output of a successful test.\n",
    "test_10_facecount (__main__.ProjectTestSuite) ... ok\n",
    "test_1_change_w (__main__.ProjectTestSuite) ... IS in array\n",
    "IS a float\n",
    "ok\n",
    "test_2_rolldice (__main__.ProjectTestSuite) ... ok\n",
    "test_3_display (__main__.ProjectTestSuite) ... ok\n",
    "test_4_play (__main__.ProjectTestSuite) ... ok\n",
    "test_5_show (__main__.ProjectTestSuite) ... ok\n",
    "test_6_show (__main__.ProjectTestSuite) ... ok\n",
    "test_7_show (__main__.ProjectTestSuite) ... ok\n",
    "test_8_jackpot (__main__.ProjectTestSuite) ... ok\n",
    "test_9_combo (__main__.ProjectTestSuite) ... ok\n",
    "\n",
    "----------------------------------------------------------------------\n",
    "Ran 10 tests in 0.042s\n",
    "\n",
    "OK"
   ]
  },
  {
   "cell_type": "markdown",
   "id": "7c44695d-d1b3-4edf-9f94-e64d7446f199",
   "metadata": {},
   "source": [
    "# Scenarios\n",
    "\n",
    "Code blocks with your scenarios and their outputs. \n",
    "\n",
    "These should have appropriate import statements even though the code is now in the same notebook as the classes it calls. "
   ]
  },
  {
   "cell_type": "markdown",
   "id": "90b7abd8-f4a7-4d71-bc9a-746640516b98",
   "metadata": {},
   "source": [
    "## Scenario 1"
   ]
  },
  {
   "cell_type": "code",
   "execution_count": 15,
   "id": "815eae36-4357-442a-894e-d056ebb8f998",
   "metadata": {},
   "outputs": [
    {
     "name": "stdout",
     "output_type": "stream",
     "text": [
      "0.233\n",
      "0.379\n"
     ]
    },
    {
     "data": {
      "text/plain": [
       "Text(0, 0.5, 'Frequency')"
      ]
     },
     "execution_count": 15,
     "metadata": {},
     "output_type": "execute_result"
    },
    {
     "data": {
      "image/png": "[encoded data removed]",
      "text/plain": [
       "<Figure size 432x288 with 1 Axes>"
      ]
     },
     "metadata": {
      "needs_background": "light"
     },
     "output_type": "display_data"
    }
   ],
   "source": [
    "# Code blocks with output\n",
    "import matplotlib.pyplot as plt \n",
    "\n",
    "coin1=Die(['H','T']) #fair\n",
    "coin2=Die(['H','T']) #unfair\n",
    "coin2.change_w('H', 5)\n",
    "\n",
    "coin3=Die(['H','T']) #fair\n",
    "coin4=Die(['H','T']) #fair\n",
    "coin5=Die(['H','T']) #unfair\n",
    "coin5.change_w('H', 7)\n",
    "\n",
    "game1=Game([coin1, coin3, coin4])\n",
    "game1.play(1000)\n",
    "analyze1=Analyzer(game1)\n",
    "freq1=(analyze1.jackpot())/1000\n",
    "print(freq1)\n",
    "\n",
    "game2=Game([coin2, coin5, coin3])\n",
    "game2.play(1000)\n",
    "analyze2=Analyzer(game2)\n",
    "freq2=(analyze2.jackpot())/1000\n",
    "print(freq2)\n",
    "\n",
    "gamebar=['Game 1','Game 2']\n",
    "y_axis = [freq1, freq2]\n",
    "plt.bar(gamebar, y_axis, color = ['blue','orange'])\n",
    "plt.title('Frequency of Jackpots for Game 1 and Game 2')\n",
    "\n",
    "plt.xlabel(\"Games\")\n",
    "plt.ylabel(\"Frequency\")\n"
   ]
  },
  {
   "cell_type": "markdown",
   "id": "92793a09-0024-465d-b272-2ef8b9a6c21c",
   "metadata": {},
   "source": [
    "## Scenario 2"
   ]
  },
  {
   "cell_type": "code",
   "execution_count": 16,
   "id": "7218e98e-6ec0-4766-8793-5b386ce6ee24",
   "metadata": {},
   "outputs": [
    {
     "data": {
      "text/plain": [
       "<AxesSubplot:xlabel='Die0,Die1,Die2,Die3,Die4'>"
      ]
     },
     "execution_count": 16,
     "metadata": {},
     "output_type": "execute_result"
    },
    {
     "data": {
      "image/png": "[encoded data removed]",
      "text/plain": [
       "<Figure size 432x288 with 1 Axes>"
      ]
     },
     "metadata": {
      "needs_background": "light"
     },
     "output_type": "display_data"
    },
    {
     "data": {
      "image/png": "[encoded data removed]",
      "text/plain": [
       "<Figure size 432x288 with 1 Axes>"
      ]
     },
     "metadata": {
      "needs_background": "light"
     },
     "output_type": "display_data"
    },
    {
     "data": {
      "image/png": "[encoded data removed]",
      "text/plain": [
       "<Figure size 432x288 with 1 Axes>"
      ]
     },
     "metadata": {
      "needs_background": "light"
     },
     "output_type": "display_data"
    }
   ],
   "source": [
    "# Code blocks with output\n",
    "\n",
    "die1=Die([1,2,3,4,5,6]) \n",
    "die2=Die([1,2,3,4,5,6])\n",
    "die2.change_w(6,5)\n",
    "die8=Die([1,2,3,4,5,6])\n",
    "die8.change_w(6,5)\n",
    "\n",
    "die3=Die([1,2,3,4,5,6])\n",
    "die3.change_w(1,5)\n",
    "\n",
    "die4=Die([1,2,3,4,5,6])\n",
    "die5=Die([1,2,3,4,5,6])\n",
    "die6=Die([1,2,3,4,5,6])\n",
    "die7=Die([1,2,3,4,5,6])\n",
    "\n",
    "game1=Game([die1, die4, die5, die6, die7])\n",
    "game1.play(10000)\n",
    "analyze1=Analyzer(game1)\n",
    "freq2=(analyze2.jackpot())/1000\n",
    "\n",
    "game2=Game([die2, die8, die3, die4, die5])\n",
    "game2.play(10000)\n",
    "analyze2=Analyzer(game2)\n",
    "freq2=(analyze2.jackpot())/1000\n",
    "\n",
    "\n",
    "gamebar=['Game 1','Game 2']\n",
    "y_axis = [freq1, freq2]\n",
    "plt.bar(gamebar, y_axis, color = ['blue','orange'])\n",
    "plt.title('Frequency of Jackpots for Game 1 and Game 2')\n",
    "\n",
    "plt.xlabel(\"Games\")\n",
    "plt.ylabel(\"Frequency\")\n",
    "\n",
    "s1=analyze1.combo().head(10)\n",
    "s2=analyze2.combo().head(10)\n",
    "s1.plot.bar()\n",
    "s2.plot.bar()"
   ]
  },
  {
   "cell_type": "markdown",
   "id": "1b47f5b6-188d-4d24-9c2f-687b430e6624",
   "metadata": {},
   "source": [
    "## Scenario 3"
   ]
  },
  {
   "cell_type": "code",
   "execution_count": 20,
   "id": "ad6d2878-f832-4065-98a3-1ea78ff0a6d3",
   "metadata": {},
   "outputs": [
    {
     "name": "stdout",
     "output_type": "stream",
     "text": [
      "3\n",
      "0.003\n"
     ]
    }
   ],
   "source": [
    "# Code blocks with output\n",
    "letters=['A','B','C','D','E','F','G','H','I',\n",
    "         'J','K','L','M','N','O','P','Q','R',\n",
    "         'S','T','U','V','W','X','Y','Z']\n",
    "numbers=[8.4966, 2.0720, 4.5388, 3.3844, 11.1607, \n",
    "         1.8121, 2.4705, 3.0034, 7.5448, 0.1965, 1.1016,\n",
    "         5.4893, 3.0129, 6.6544, 7.1635, 3.1671, 0.1962,\n",
    "         7.5809, 5.7351, 6.9509, 3.6308, 1.0074, 1.2899,\n",
    "         0.2902, 1.7779, 0.2722]\n",
    "\n",
    "dielet=Die(letters)\n",
    "for x in range(len(letters)):\n",
    "    dielet.change_w(letters[x], numbers[x])\n",
    "    \n",
    "dielet2=Die(letters)\n",
    "for x in range(len(letters)):\n",
    "    dielet2.change_w(letters[x], numbers[x])\n",
    "    \n",
    "dielet3=Die(letters)\n",
    "for x in range(len(letters)):\n",
    "    dielet3.change_w(letters[x], numbers[x])\n",
    "    \n",
    "dielet4=Die(letters)\n",
    "for x in range(len(letters)):\n",
    "    dielet4.change_w(letters[x], numbers[x])\n",
    "    \n",
    "dielet5=Die(letters)\n",
    "for x in range(len(letters)):\n",
    "    dielet5.change_w(letters[x], numbers[x])\n",
    "\n",
    "\n",
    "gamelet= Game([dielet,dielet2,dielet3,dielet4,dielet5])\n",
    "gamelet.play(1000)\n",
    "s3=gamelet.show()\n",
    "words=list(s3.stack().groupby(level=0).apply(''.join))\n",
    "wordlower=[i.lower() for i in words]\n",
    "\n",
    "fivelet = pd.read_csv(r\"C:\\Users\\Rhea\\Documents\\DS5100-2022-06-RA-\\Project\\sgb-words.txt\",header=None)\n",
    "fivelist=fivelet[0].tolist()\n",
    "\n",
    "s3count=0\n",
    "for i in wordlower:\n",
    "    if i in fivelist:\n",
    "        s3count += 1\n",
    "    else: \n",
    "        pass\n",
    "print(s3count)\n",
    "print(s3count/1000)\n",
    "\n"
   ]
  },
  {
   "cell_type": "markdown",
   "id": "6ced706c-19e7-4e79-b171-bfb076f822b4",
   "metadata": {},
   "source": [
    "# Directory Listing\n",
    "\n",
    "A code block that executes the following bash command: \n",
    "\n",
    "```bash\n",
    "!ls -lRF -o\n",
    "```"
   ]
  },
  {
   "cell_type": "code",
   "execution_count": 12,
   "id": "2e439f66-a07e-484a-b621-b331af400589",
   "metadata": {},
   "outputs": [
    {
     "name": "stdout",
     "output_type": "stream",
     "text": [
      " Volume in drive C is OS\n",
      " Volume Serial Number is 0433-B728\n",
      "\n",
      " Directory of C:\\Users\\Rhea\\Documents\\DS5100-2022-06-RA-\\Final Project\n",
      "\n",
      "\n",
      " Directory of C:\\Users\\Rhea\\Documents\\DS5100-2022-06-RA-\\Final Project\n",
      "\n"
     ]
    },
    {
     "name": "stderr",
     "output_type": "stream",
     "text": [
      "File Not Found\n"
     ]
    }
   ],
   "source": [
    "!dir -lRF -o"
   ]
  },
  {
   "cell_type": "markdown",
   "id": "c4df835c-3cd7-4c74-a4de-51638607680b",
   "metadata": {
    "tags": []
   },
   "source": [
    "# Installation Output Listing\n",
    "    \n",
    "A code block that executes the code to install your your package and outputs a successful installation."
   ]
  },
  {
   "cell_type": "code",
   "execution_count": null,
   "id": "3609769a-c338-4746-8607-d124caf76ed8",
   "metadata": {},
   "outputs": [],
   "source": [
    "# Installation commands"
   ]
  },
  {
   "cell_type": "code",
   "execution_count": 9,
   "id": "3f8d0ced-8841-4357-bda1-151880cf91a0",
   "metadata": {},
   "outputs": [
    {
     "name": "stdout",
     "output_type": "stream",
     "text": [
      "Welcome to my module!\n"
     ]
    }
   ],
   "source": [
    "from Demo.dieclass import Die\n",
    "from Demo.gameclass import Game\n",
    "from Demo.analyzerclass import Analyzer"
   ]
  }
 ],
 "metadata": {
  "kernelspec": {
   "display_name": "Python 3",
   "language": "python",
   "name": "python3"
  },
  "language_info": {
   "codemirror_mode": {
    "name": "ipython",
    "version": 3
   },
   "file_extension": ".py",
   "mimetype": "text/x-python",
   "name": "python",
   "nbconvert_exporter": "python",
   "pygments_lexer": "ipython3",
   "version": "3.8.8"
  },
  "widgets": {
   "application/vnd.jupyter.widget-state+json": {
    "state": {},
    "version_major": 2,
    "version_minor": 0
   }
  }
 },
 "nbformat": 4,
 "nbformat_minor": 5
}
