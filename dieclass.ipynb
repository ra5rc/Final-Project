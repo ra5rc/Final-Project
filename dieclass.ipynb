{
 "cells": [
  {
   "cell_type": "code",
   "execution_count": 1,
   "id": "401c7de1-5aba-44af-976a-7424b28c8410",
   "metadata": {},
   "outputs": [],
   "source": [
    "import pandas as pd\n",
    "import numpy as np\n",
    "import random"
   ]
  },
  {
   "cell_type": "code",
   "execution_count": 6,
   "id": "9003c47e-1e0e-4eb7-85ce-b6b4139553da",
   "metadata": {},
   "outputs": [],
   "source": [
    "class Die():\n",
    "    \"\"\"\n",
    "    A die has N sides, or “faces”, and W \"weights\",\n",
    "    stored in a dataframe that can be rolled to select \n",
    "    a face. \n",
    "  \n",
    "    Attributes:\n",
    "    A die object with assigned faces and weights.\n",
    "    \n",
    "    Methods:\n",
    "    __init__\n",
    "    change_w\n",
    "    rolldie\n",
    "    display\n",
    "   \n",
    "    \"\"\"\n",
    "    _diedf=pd.DataFrame({'faces':[],'weights':[]})\n",
    "    \n",
    "    def __init__(self, n, w = 1.0):\n",
    "        \n",
    "        \"\"\"\n",
    "        Initialize the Die from faces and weights. \n",
    "       \n",
    "        Input Arguments:\n",
    "        n must be an array of floats, integers or strings.\n",
    "        w can be an array or value of floats or integers. \n",
    "        If no weight is specified, w will default to 1.0.\n",
    "        \"\"\"\n",
    "        self.n=n\n",
    "        self.w=w\n",
    "        _newdie = pd.DataFrame({'faces': n, 'weights': w})\n",
    "        self._diedf = pd.concat([self._diedf, _newdie], ignore_index=True)\n",
    "\n",
    "    def change_w(self, faces, weights):\n",
    "        \"\"\"\n",
    "        The function to change the weight of a specified face.\n",
    "  \n",
    "        Parameters:\n",
    "           faces, int, float, or string.\n",
    "           weights, int or float.\n",
    "           \n",
    "        Returns:\n",
    "            Specifies whether face is in array of values already.\n",
    "            Changes type of weight to floaat if not already.\n",
    "            Changes weight at specified face value.\n",
    "            \n",
    "        \"\"\"\n",
    "        if not (faces in list(self._diedf['faces']):\n",
    "            raise ValueError('Face not in die.')\n",
    "        else:\n",
    "            self._diedf.at[self._diedf.index[self._diedf.faces == faces],'weights']=float(weights)\n",
    "\n",
    "    def rolldie(self, number=1):\n",
    "        \"\"\"\n",
    "        The function to roll a die object a number of times according to weight.\n",
    "        \n",
    "        Parameters:\n",
    "        number, int or float\n",
    "        \n",
    "        Returns:\n",
    "        An array of face values chosen randomly a specified number of times.\n",
    "        \"\"\"\n",
    "        roll= random.choices(self._diedf['faces'].values, self._diedf['weights'].values, k=number)\n",
    "        return(roll)\n",
    "          \n",
    "    def display(self):\n",
    "        \"\"\"\n",
    "        The function to display a dataframe of the faces and weights of a die.         \n",
    "        \n",
    "        Returns:\n",
    "        A dataframe with the faces and weights of a die.               \n",
    "        \n",
    "        \"\"\"\n",
    "        \n",
    "        return(self._diedf)"
   ]
  },
  {
   "cell_type": "code",
   "execution_count": 7,
   "id": "f2592627-7078-4efe-ae47-920c9dc651e9",
   "metadata": {},
   "outputs": [
    {
     "data": {
      "text/plain": [
       "[1.0, 3.0, 3.0]"
      ]
     },
     "execution_count": 7,
     "metadata": {},
     "output_type": "execute_result"
    }
   ],
   "source": [
    "die2=Die([1,2,3])\n",
    "die2.display()\n",
    "die2.rolldie(3)"
   ]
  },
  {
   "cell_type": "code",
   "execution_count": 4,
   "id": "4b021cf6-0132-473e-a0e0-82a66a188abe",
   "metadata": {},
   "outputs": [
    {
     "name": "stdout",
     "output_type": "stream",
     "text": [
      "IS in array\n",
      "IS a float\n",
      "IS in array\n",
      "IS a float\n",
      "NOT in array\n",
      "IS a float\n"
     ]
    },
    {
     "data": {
      "text/html": [
       "<div>\n",
       "<style scoped>\n",
       "    .dataframe tbody tr th:only-of-type {\n",
       "        vertical-align: middle;\n",
       "    }\n",
       "\n",
       "    .dataframe tbody tr th {\n",
       "        vertical-align: top;\n",
       "    }\n",
       "\n",
       "    .dataframe thead th {\n",
       "        text-align: right;\n",
       "    }\n",
       "</style>\n",
       "<table border=\"1\" class=\"dataframe\">\n",
       "  <thead>\n",
       "    <tr style=\"text-align: right;\">\n",
       "      <th></th>\n",
       "      <th>faces</th>\n",
       "      <th>weights</th>\n",
       "    </tr>\n",
       "  </thead>\n",
       "  <tbody>\n",
       "    <tr>\n",
       "      <th>0</th>\n",
       "      <td>1.0</td>\n",
       "      <td>0.2</td>\n",
       "    </tr>\n",
       "    <tr>\n",
       "      <th>1</th>\n",
       "      <td>2.0</td>\n",
       "      <td>0.4</td>\n",
       "    </tr>\n",
       "    <tr>\n",
       "      <th>2</th>\n",
       "      <td>3.0</td>\n",
       "      <td>0.4</td>\n",
       "    </tr>\n",
       "  </tbody>\n",
       "</table>\n",
       "</div>"
      ],
      "text/plain": [
       "   faces  weights\n",
       "0    1.0      0.2\n",
       "1    2.0      0.4\n",
       "2    3.0      0.4"
      ]
     },
     "execution_count": 4,
     "metadata": {},
     "output_type": "execute_result"
    }
   ],
   "source": [
    "die2.change_w(1, 0.2)\n",
    "die2.change_w(2, 0.4)\n",
    "die2.change_w(3,0.4)\n",
    "die2.display()"
   ]
  },
  {
   "cell_type": "code",
   "execution_count": 5,
   "id": "a5ffc528-0d3e-4757-9486-987c1b1754b8",
   "metadata": {},
   "outputs": [
    {
     "data": {
      "text/plain": [
       "[3.0, 3.0, 3.0]"
      ]
     },
     "execution_count": 5,
     "metadata": {},
     "output_type": "execute_result"
    }
   ],
   "source": [
    "die2.rolldie(3)"
   ]
  },
  {
   "cell_type": "code",
   "execution_count": null,
   "id": "bc27fd6c-bc92-4646-88bd-126fee4bb5e6",
   "metadata": {},
   "outputs": [],
   "source": []
  },
  {
   "cell_type": "code",
   "execution_count": null,
   "id": "2fc88c30-8b78-4593-9a9d-799137b4624e",
   "metadata": {},
   "outputs": [],
   "source": []
  },
  {
   "cell_type": "code",
   "execution_count": null,
   "id": "d2702ad2-d090-4845-8caa-94d2ecab2ae0",
   "metadata": {},
   "outputs": [],
   "source": []
  }
 ],
 "metadata": {
  "kernelspec": {
   "display_name": "Python 3",
   "language": "python",
   "name": "python3"
  },
  "language_info": {
   "codemirror_mode": {
    "name": "ipython",
    "version": 3
   },
   "file_extension": ".py",
   "mimetype": "text/x-python",
   "name": "python",
   "nbconvert_exporter": "python",
   "pygments_lexer": "ipython3",
   "version": "3.8.8"
  }
 },
 "nbformat": 4,
 "nbformat_minor": 5
}
